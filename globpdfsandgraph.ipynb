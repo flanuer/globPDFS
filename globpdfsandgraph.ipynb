{
 "cells": [
  {
   "cell_type": "code",
   "execution_count": 1,
   "metadata": {},
   "outputs": [],
   "source": [
    "#Use this notebook to sift through pdfs, merge, extract text, and graph...let's try"
   ]
  },
  {
   "cell_type": "code",
   "execution_count": 2,
   "metadata": {},
   "outputs": [],
   "source": [
    "import PyPDF2\n",
    "import glob"
   ]
  },
  {
   "cell_type": "code",
   "execution_count": 3,
   "metadata": {},
   "outputs": [],
   "source": [
    "pdf_dir = \"/home/scott/projects/RedTideResearch/dataHarvests\""
   ]
  },
  {
   "cell_type": "code",
   "execution_count": 4,
   "metadata": {},
   "outputs": [],
   "source": [
    "pdf_files = glob.glob(\"%s/*.pdf\" % pdf_dir)"
   ]
  },
  {
   "cell_type": "code",
   "execution_count": 5,
   "metadata": {},
   "outputs": [],
   "source": [
    "def PDFmerge(pdfs, output):\n",
    "    pdfMerger = PyPDF2.PdfFileMerger()\n",
    "    \n",
    "    for pdf in pdf_files:\n",
    "        with open(pdf, 'rb') as f:\n",
    "            pdfMerger.append(f)\n",
    "            \n",
    "    with open(output, 'wb') as f:\n",
    "        pdfMerger.write(f)\n",
    "               "
   ]
  },
  {
   "cell_type": "code",
   "execution_count": 6,
   "metadata": {},
   "outputs": [
    {
     "name": "stderr",
     "output_type": "stream",
     "text": [
      "PdfReadWarning: Xref table not zero-indexed. ID numbers for objects will be corrected. [pdf.py:1736]\n"
     ]
    }
   ],
   "source": [
    " def main(): \n",
    "    # pdf files to merge \n",
    "    #pdfs = ['example.pdf', 'rotated_example.pdf'] \n",
    "    pdfs = pdf_files\n",
    "    # output pdf file name \n",
    "    output  = 'combined_example.pdf'\n",
    "\n",
    "    # calling pdf merge function \n",
    "    PDFmerge(pdfs = pdfs, output = output) \n",
    "\n",
    "if __name__ == \"__main__\": \n",
    "    # calling the main function \n",
    "    main() "
   ]
  },
  {
   "cell_type": "code",
   "execution_count": null,
   "metadata": {},
   "outputs": [],
   "source": []
  },
  {
   "cell_type": "code",
   "execution_count": 7,
   "metadata": {},
   "outputs": [],
   "source": [
    "main()"
   ]
  },
  {
   "cell_type": "code",
   "execution_count": null,
   "metadata": {},
   "outputs": [],
   "source": []
  }
 ],
 "metadata": {
  "kernelspec": {
   "display_name": "Python 3",
   "language": "python",
   "name": "python3"
  },
  "language_info": {
   "codemirror_mode": {
    "name": "ipython",
    "version": 3
   },
   "file_extension": ".py",
   "mimetype": "text/x-python",
   "name": "python",
   "nbconvert_exporter": "python",
   "pygments_lexer": "ipython3",
   "version": "3.6.8"
  }
 },
 "nbformat": 4,
 "nbformat_minor": 2
}
